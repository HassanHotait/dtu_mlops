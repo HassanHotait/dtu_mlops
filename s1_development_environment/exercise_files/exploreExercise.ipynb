{
 "cells": [
  {
   "cell_type": "code",
   "execution_count": 16,
   "metadata": {},
   "outputs": [],
   "source": [
    "# Imports\n",
    "import torch\n",
    "import os\n",
    "import helper\n"
   ]
  },
  {
   "cell_type": "code",
   "execution_count": 29,
   "metadata": {},
   "outputs": [],
   "source": [
    "# Load Pytorch File\n",
    "\n",
    "mnist_path = \"C:/Users/Hasan/OneDrive/Desktop/Projects/dtu_mlops/data/corruptmnist\"\n",
    "# Train Images\n",
    "trainSet0 = torch.load(os.path.join(mnist_path,\"train_images_0.pt\"))\n",
    "trainSet1 = torch.load(os.path.join(mnist_path,\"train_images_1.pt\"))\n",
    "trainSet2 = torch.load(os.path.join(mnist_path,\"train_images_2.pt\"))\n",
    "trainSet3 = torch.load(os.path.join(mnist_path,\"train_images_3.pt\"))\n",
    "trainSet4 = torch.load(os.path.join(mnist_path,\"train_images_4.pt\"))\n",
    "trainSet5 = torch.load(os.path.join(mnist_path,\"train_images_5.pt\"))\n",
    "\n",
    "# Target\n",
    "\n",
    "targetSet0 = torch.load(os.path.join(mnist_path,\"train_target_0.pt\"))\n",
    "targetSet1 = torch.load(os.path.join(mnist_path,\"train_target_1.pt\"))\n",
    "targetSet2 = torch.load(os.path.join(mnist_path,\"train_target_2.pt\"))\n",
    "targetSet3 = torch.load(os.path.join(mnist_path,\"train_target_3.pt\"))\n",
    "targetSet4 = torch.load(os.path.join(mnist_path,\"train_target_4.pt\"))\n",
    "targetSet5 = torch.load(os.path.join(mnist_path,\"train_target_5.pt\"))\n",
    "\n",
    "\n",
    "\n",
    "trainSet = torch.cat((trainSet0,trainSet1,trainSet2,trainSet3,trainSet4,trainSet5),dim = 0)\n",
    "targetSet = torch.cat((targetSet0,targetSet1,targetSet2,targetSet3,targetSet4,targetSet5),dim = 0)\n",
    "\n",
    "\n"
   ]
  },
  {
   "cell_type": "code",
   "execution_count": 26,
   "metadata": {},
   "outputs": [
    {
     "name": "stdout",
     "output_type": "stream",
     "text": [
      "Type Of trainSet 0: \n",
      " <class 'torch.Tensor'>\n",
      "Shape of trainSet 0:  torch.Size([5000, 28, 28])\n",
      "Length of trainset 0:  5000\n",
      "------------------------------------------\n",
      "Type Of trainSet 1: \n",
      " <class 'torch.Tensor'>\n",
      "Shape of trainSet 1:  torch.Size([5000, 28, 28])\n",
      "Length of trainset 1:  5000\n",
      "------------------------------------------\n",
      "Type Of trainSet 2: \n",
      " <class 'torch.Tensor'>\n",
      "Shape of trainSet 2:  torch.Size([5000, 28, 28])\n",
      "Length of trainset 2:  5000\n",
      "------------------------------------------\n",
      "Type Of trainSet 3: \n",
      " <class 'torch.Tensor'>\n",
      "Shape of trainSet 3:  torch.Size([5000, 28, 28])\n",
      "Length of trainset 3:  5000\n",
      "------------------------------------------\n",
      "Type Of trainSet 4: \n",
      " <class 'torch.Tensor'>\n",
      "Shape of trainSet 4:  torch.Size([5000, 28, 28])\n",
      "Length of trainset 4:  5000\n",
      "------------------------------------------\n",
      "Type Of trainSet 5: \n",
      " <class 'torch.Tensor'>\n",
      "Shape of trainSet 5:  torch.Size([5000, 28, 28])\n",
      "Length of trainset 5:  5000\n"
     ]
    },
    {
     "data": {
      "text/plain": [
       "torch.Size([30000, 28, 28])"
      ]
     },
     "execution_count": 26,
     "metadata": {},
     "output_type": "execute_result"
    }
   ],
   "source": [
    "# Check What's in the loaded Tuple\n",
    "print(\"Type Of trainSet 0: \\n\",type(trainSet0))\n",
    "\n",
    "print(\"Shape of trainSet 0: \",trainSet0.shape)\n",
    "\n",
    "print(\"Length of trainset 0: \",len(trainSet0))\n",
    "\n",
    "print(\"------------------------------------------\")\n",
    "\n",
    "print(\"Type Of trainSet 1: \\n\",type(trainSet1))\n",
    "\n",
    "print(\"Shape of trainSet 1: \",trainSet1.shape)\n",
    "\n",
    "print(\"Length of trainset 1: \",len(trainSet1))\n",
    "\n",
    "print(\"------------------------------------------\")\n",
    "\n",
    "print(\"Type Of trainSet 2: \\n\",type(trainSet2))\n",
    "\n",
    "print(\"Shape of trainSet 2: \",trainSet2.shape)\n",
    "\n",
    "print(\"Length of trainset 2: \",len(trainSet2))\n",
    "\n",
    "print(\"------------------------------------------\")\n",
    "\n",
    "print(\"Type Of trainSet 3: \\n\",type(trainSet3))\n",
    "\n",
    "print(\"Shape of trainSet 3: \",trainSet3.shape)\n",
    "\n",
    "print(\"Length of trainset 3: \",len(trainSet3))\n",
    "\n",
    "print(\"------------------------------------------\")\n",
    "\n",
    "print(\"Type Of trainSet 4: \\n\",type(trainSet4))\n",
    "\n",
    "print(\"Shape of trainSet 4: \",trainSet4.shape)\n",
    "\n",
    "print(\"Length of trainset 4: \",len(trainSet4))\n",
    "\n",
    "print(\"------------------------------------------\")\n",
    "\n",
    "print(\"Type Of trainSet 5: \\n\",type(trainSet5))\n",
    "\n",
    "print(\"Shape of trainSet 5: \",trainSet5.shape)\n",
    "\n",
    "print(\"Length of trainset 5: \",len(trainSet5))\n",
    "\n",
    "# Concatenate tensors\n",
    "\n",
    "trainSet = torch.cat((trainSet0,trainSet1,trainSet2,trainSet3,trainSet4,trainSet5),dim = 0)\n",
    "trainSet.shape\n",
    "\n",
    "\n",
    "# helper.imshow(trainSet[1].view(1,28,28))\n",
    "\n"
   ]
  },
  {
   "cell_type": "code",
   "execution_count": 21,
   "metadata": {},
   "outputs": [
    {
     "name": "stdout",
     "output_type": "stream",
     "text": [
      "Type Of testSet: \n",
      " <class 'torch.Tensor'>\n",
      "Shape of testSet:  torch.Size([5000, 28, 28])\n",
      "Length of testSet:  5000\n"
     ]
    }
   ],
   "source": [
    "testSet = torch.load(os.path.join(mnist_path,\"test_images.pt\"))\n",
    "\n",
    "print(\"Type Of testSet: \\n\",type(testSet))\n",
    "\n",
    "print(\"Shape of testSet: \",testSet.shape)\n",
    "\n",
    "print(\"Length of testSet: \",len(testSet))"
   ]
  }
 ],
 "metadata": {
  "kernelspec": {
   "display_name": "MLopsCUDA",
   "language": "python",
   "name": "python3"
  },
  "language_info": {
   "codemirror_mode": {
    "name": "ipython",
    "version": 3
   },
   "file_extension": ".py",
   "mimetype": "text/x-python",
   "name": "python",
   "nbconvert_exporter": "python",
   "pygments_lexer": "ipython3",
   "version": "3.11.5"
  }
 },
 "nbformat": 4,
 "nbformat_minor": 2
}
